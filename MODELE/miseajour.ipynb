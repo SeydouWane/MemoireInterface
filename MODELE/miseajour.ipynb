{
 "cells": [
  {
   "cell_type": "code",
   "execution_count": 1,
   "metadata": {},
   "outputs": [],
   "source": [
    "import pandas as pd"
   ]
  },
  {
   "cell_type": "code",
   "execution_count": 38,
   "metadata": {},
   "outputs": [],
   "source": [
    "# Charger le dataset\n",
    "file_path = 'crop_yield.csv'\n",
    "data = pd.read_csv(file_path)"
   ]
  },
  {
   "cell_type": "code",
   "execution_count": 54,
   "metadata": {},
   "outputs": [],
   "source": [
    "# Liste des 14 régions du Sénégal\n",
    "regions_senegal = [\n",
    "    'Dakar', 'Diourbel', 'Fatick', 'Kaffrine', 'Kaolack', \n",
    "    'Kédougou', 'Kolda', 'Louga', 'Matam', 'Saint-Louis', \n",
    "    'Sédhiou', 'Tambacounda', 'Thiès', 'Ziguinchor'\n",
    "]\n",
    "\n",
    "# Obtenir les 14 premiers États indiens uniques\n",
    "unique_states = data['State'].unique()[:14]"
   ]
  },
  {
   "cell_type": "code",
   "execution_count": 55,
   "metadata": {},
   "outputs": [],
   "source": [
    "# Créer un mapping entre les 14 premiers États de l'Inde et les 14 régions du Sénégal\n",
    "state_to_region_map = dict(zip(unique_states, regions_senegal))"
   ]
  },
  {
   "cell_type": "code",
   "execution_count": 56,
   "metadata": {},
   "outputs": [],
   "source": [
    "# Remplacer les États indiens par les régions sénégalaises\n",
    "data['State'] = data['State'].map(state_to_region_map)\n",
    "\n",
    "# Supprimer les lignes des autres États de l'Inde qui ne font pas partie des 14 premiers\n",
    "data_cleaned = data.dropna(subset=['State'])\n",
    "\n",
    "# Nettoyage des valeurs de la colonne 'Season'\n",
    "data_cleaned['Season'] = data_cleaned['Season'].str.strip().str.capitalize()"
   ]
  },
  {
   "cell_type": "code",
   "execution_count": 57,
   "metadata": {},
   "outputs": [
    {
     "name": "stdout",
     "output_type": "stream",
     "text": [
      "Lignes avec des saisons non reconnues (NaN) : 1998\n"
     ]
    }
   ],
   "source": [
    "# Redéfinir le mapping des saisons après avoir standardisé les valeurs\n",
    "season_mapping = {\n",
    "    'Kharif': 'Saison des Pluies',  # Correspond à la saison des pluies au Sénégal (juin - octobre)\n",
    "    'Rabi': 'Saison Sèche',         # Correspond à la saison sèche au Sénégal (novembre - mai)\n",
    "    'Whole year': 'Toute l\\'année'  # Si applicable, garder comme \"Toute l'année\"\n",
    "}\n",
    "\n",
    "# Appliquer la correspondance des saisons et supprimer les lignes sans correspondance\n",
    "data_cleaned['Season'] = data_cleaned['Season'].map(season_mapping)\n",
    "\n",
    "# Vérification des valeurs NaN après le mapping des saisons\n",
    "print(f\"Lignes avec des saisons non reconnues (NaN) : {data_cleaned['Season'].isna().sum()}\")"
   ]
  },
  {
   "cell_type": "code",
   "execution_count": 58,
   "metadata": {},
   "outputs": [],
   "source": [
    "# Supprimer les lignes où 'Season' est NaN (c'est-à-dire les saisons qui ne correspondent pas)\n",
    "data_cleaned = data_cleaned.dropna(subset=['Season'])"
   ]
  },
  {
   "cell_type": "code",
   "execution_count": 60,
   "metadata": {},
   "outputs": [
    {
     "name": "stdout",
     "output_type": "stream",
     "text": [
      "Le fichier nettoyé a été sauvegardé sous le nom crop_yield_cleaned.csv\n"
     ]
    },
    {
     "data": {
      "text/html": [
       "<div>\n",
       "<style scoped>\n",
       "    .dataframe tbody tr th:only-of-type {\n",
       "        vertical-align: middle;\n",
       "    }\n",
       "\n",
       "    .dataframe tbody tr th {\n",
       "        vertical-align: top;\n",
       "    }\n",
       "\n",
       "    .dataframe thead th {\n",
       "        text-align: right;\n",
       "    }\n",
       "</style>\n",
       "<table border=\"1\" class=\"dataframe\">\n",
       "  <thead>\n",
       "    <tr style=\"text-align: right;\">\n",
       "      <th></th>\n",
       "      <th>Crop</th>\n",
       "      <th>Crop_Year</th>\n",
       "      <th>Season</th>\n",
       "      <th>State</th>\n",
       "      <th>Area</th>\n",
       "      <th>Production</th>\n",
       "      <th>Annual_Rainfall</th>\n",
       "      <th>Fertilizer</th>\n",
       "      <th>Pesticide</th>\n",
       "      <th>Yield</th>\n",
       "    </tr>\n",
       "  </thead>\n",
       "  <tbody>\n",
       "    <tr>\n",
       "      <th>0</th>\n",
       "      <td>Arecanut</td>\n",
       "      <td>1997</td>\n",
       "      <td>Toute l'année</td>\n",
       "      <td>Dakar</td>\n",
       "      <td>73814.0</td>\n",
       "      <td>56708</td>\n",
       "      <td>2051.4</td>\n",
       "      <td>7024878.38</td>\n",
       "      <td>22882.34</td>\n",
       "      <td>0.796087</td>\n",
       "    </tr>\n",
       "    <tr>\n",
       "      <th>1</th>\n",
       "      <td>Arhar/Tur</td>\n",
       "      <td>1997</td>\n",
       "      <td>Saison des Pluies</td>\n",
       "      <td>Dakar</td>\n",
       "      <td>6637.0</td>\n",
       "      <td>4685</td>\n",
       "      <td>2051.4</td>\n",
       "      <td>631643.29</td>\n",
       "      <td>2057.47</td>\n",
       "      <td>0.710435</td>\n",
       "    </tr>\n",
       "    <tr>\n",
       "      <th>2</th>\n",
       "      <td>Castor seed</td>\n",
       "      <td>1997</td>\n",
       "      <td>Saison des Pluies</td>\n",
       "      <td>Dakar</td>\n",
       "      <td>796.0</td>\n",
       "      <td>22</td>\n",
       "      <td>2051.4</td>\n",
       "      <td>75755.32</td>\n",
       "      <td>246.76</td>\n",
       "      <td>0.238333</td>\n",
       "    </tr>\n",
       "    <tr>\n",
       "      <th>3</th>\n",
       "      <td>Coconut</td>\n",
       "      <td>1997</td>\n",
       "      <td>Toute l'année</td>\n",
       "      <td>Dakar</td>\n",
       "      <td>19656.0</td>\n",
       "      <td>126905000</td>\n",
       "      <td>2051.4</td>\n",
       "      <td>1870661.52</td>\n",
       "      <td>6093.36</td>\n",
       "      <td>5238.051739</td>\n",
       "    </tr>\n",
       "    <tr>\n",
       "      <th>4</th>\n",
       "      <td>Cotton(lint)</td>\n",
       "      <td>1997</td>\n",
       "      <td>Saison des Pluies</td>\n",
       "      <td>Dakar</td>\n",
       "      <td>1739.0</td>\n",
       "      <td>794</td>\n",
       "      <td>2051.4</td>\n",
       "      <td>165500.63</td>\n",
       "      <td>539.09</td>\n",
       "      <td>0.420909</td>\n",
       "    </tr>\n",
       "  </tbody>\n",
       "</table>\n",
       "</div>"
      ],
      "text/plain": [
       "           Crop  Crop_Year             Season  State     Area  Production  \\\n",
       "0      Arecanut       1997      Toute l'année  Dakar  73814.0       56708   \n",
       "1     Arhar/Tur       1997  Saison des Pluies  Dakar   6637.0        4685   \n",
       "2   Castor seed       1997  Saison des Pluies  Dakar    796.0          22   \n",
       "3      Coconut        1997      Toute l'année  Dakar  19656.0   126905000   \n",
       "4  Cotton(lint)       1997  Saison des Pluies  Dakar   1739.0         794   \n",
       "\n",
       "   Annual_Rainfall  Fertilizer  Pesticide        Yield  \n",
       "0           2051.4  7024878.38   22882.34     0.796087  \n",
       "1           2051.4   631643.29    2057.47     0.710435  \n",
       "2           2051.4    75755.32     246.76     0.238333  \n",
       "3           2051.4  1870661.52    6093.36  5238.051739  \n",
       "4           2051.4   165500.63     539.09     0.420909  "
      ]
     },
     "execution_count": 60,
     "metadata": {},
     "output_type": "execute_result"
    }
   ],
   "source": [
    "# Sauvegarder le nouveau dataset nettoyé (avec les colonnes 'Fertilizer' et 'Pesticide' conservées)\n",
    "output_file_path = 'crop_yield_cleaned.csv'\n",
    "data_cleaned.to_csv(output_file_path, index=False)\n",
    "\n",
    "print(f\"Le fichier nettoyé a été sauvegardé sous le nom {output_file_path}\")\n",
    "\n",
    "# Afficher les premières lignes des données nettoyées pour vérification\n",
    "data_cleaned.head()\n"
   ]
  }
 ],
 "metadata": {
  "kernelspec": {
   "display_name": "Python 3",
   "language": "python",
   "name": "python3"
  },
  "language_info": {
   "codemirror_mode": {
    "name": "ipython",
    "version": 3
   },
   "file_extension": ".py",
   "mimetype": "text/x-python",
   "name": "python",
   "nbconvert_exporter": "python",
   "pygments_lexer": "ipython3",
   "version": "3.8.2"
  }
 },
 "nbformat": 4,
 "nbformat_minor": 2
}
