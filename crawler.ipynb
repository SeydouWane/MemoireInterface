{
 "cells": [
  {
   "cell_type": "code",
   "execution_count": 1,
   "metadata": {},
   "outputs": [],
   "source": [
    "import newspaper\n",
    "import pandas as pd\n",
    "from newspaper import Article\n",
    "from bs4 import BeautifulSoup\n",
    "import requests\n",
    "from datetime import datetime"
   ]
  },
  {
   "cell_type": "code",
   "execution_count": 2,
   "metadata": {},
   "outputs": [],
   "source": [
    "# Fonction pour extraire les informations d'un article\n",
    "def extract_article_info(article_url, site_name):\n",
    "    article = Article(article_url)\n",
    "    try:\n",
    "        article.download()\n",
    "        article.parse()\n",
    "\n",
    "        # Vérifie si le contenu contient le mot \"agriculture\"\n",
    "        if \"agriculture\" in article.text.lower():\n",
    "            # Extraire les informations\n",
    "            title = article.title\n",
    "            author = article.authors[0] if article.authors else \"Inconnu\"\n",
    "            date = article.publish_date or datetime.now().strftime(\"%Y-%m-%d\")\n",
    "            content = article.text\n",
    "            image_url = article.top_image if article.top_image else \"\"\n",
    "\n",
    "            return {\n",
    "                \"site_url\": site_name,\n",
    "                \"title\": title,\n",
    "                \"content\": content,\n",
    "                \"author\": author,\n",
    "                \"date\": date,\n",
    "                \"link\": article_url,\n",
    "                \"image_url\": image_url,\n",
    "            }\n",
    "    except Exception as e:\n",
    "        print(f\"Erreur lors de l'extraction de l'article : {e}\")\n",
    "\n",
    "    return None"
   ]
  },
  {
   "cell_type": "code",
   "execution_count": 3,
   "metadata": {},
   "outputs": [],
   "source": [
    "# Fonction pour extraire les liens d'articles d'une page\n",
    "def get_article_links(site_url):\n",
    "    try:\n",
    "        response = requests.get(site_url)\n",
    "        soup = BeautifulSoup(response.content, \"html.parser\")\n",
    "        links = []\n",
    "\n",
    "        # Exemples de sites avec des sélecteurs spécifiques\n",
    "        if \"senego.com\" in site_url:\n",
    "            articles = soup.find_all(\"article\", class_=\"main-post\")\n",
    "            for article in articles:\n",
    "                link = article.find(\"a\")[\"href\"]\n",
    "                links.append(link)\n",
    "        elif \"dakaractu.com\" in site_url:\n",
    "            articles = soup.find_all(\"h3\", class_=\"entry-title\")\n",
    "            for article in articles:\n",
    "                link = article.find(\"a\")[\"href\"]\n",
    "                links.append(link)\n",
    "        \n",
    "        return links\n",
    "    except Exception as e:\n",
    "        print(f\"Erreur lors de l'obtention des liens d'articles pour {site_url}: {e}\")\n",
    "        return []\n",
    "\n",
    "\n"
   ]
  },
  {
   "cell_type": "code",
   "execution_count": 4,
   "metadata": {},
   "outputs": [
    {
     "name": "stdout",
     "output_type": "stream",
     "text": [
      "Scraping Senego...\n",
      "Scraping Dakar Actu...\n",
      "Articles enregistrés dans 'agriculture_articles.xlsx'.\n"
     ]
    }
   ],
   "source": [
    "# Fonction principale pour le crawling\n",
    "def crawl_articles(sites):\n",
    "    all_articles = []\n",
    "    for site_name, site_url in sites.items():\n",
    "        print(f\"Scraping {site_name}...\")\n",
    "        article_links = get_article_links(site_url)\n",
    "\n",
    "        for article_url in article_links:\n",
    "            article_info = extract_article_info(article_url, site_name)\n",
    "            if article_info:\n",
    "                all_articles.append(article_info)\n",
    "\n",
    "    # Sauvegarder les articles dans un fichier Excel\n",
    "    df = pd.DataFrame(all_articles)\n",
    "    df.to_excel(\"agriculture_articles.xlsx\", index=False)\n",
    "    print(\"Articles enregistrés dans 'agriculture_articles.xlsx'.\")\n",
    "\n",
    "# Liste des sites à crawler\n",
    "sites = {\n",
    "    \"Senego\": \"https://www.senego.com/\",\n",
    "    \"Dakar Actu\": \"https://www.dakaractu.com/\",\n",
    "    # Ajouter d'autres sites si nécessaire\n",
    "}\n",
    "\n",
    "# Lancer le crawler\n",
    "crawl_articles(sites)"
   ]
  }
 ],
 "metadata": {
  "kernelspec": {
   "display_name": "Python 3",
   "language": "python",
   "name": "python3"
  },
  "language_info": {
   "codemirror_mode": {
    "name": "ipython",
    "version": 3
   },
   "file_extension": ".py",
   "mimetype": "text/x-python",
   "name": "python",
   "nbconvert_exporter": "python",
   "pygments_lexer": "ipython3",
   "version": "3.8.2"
  }
 },
 "nbformat": 4,
 "nbformat_minor": 2
}
